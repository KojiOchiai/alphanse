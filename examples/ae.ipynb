{
 "cells": [
  {
   "cell_type": "code",
   "execution_count": 1,
   "metadata": {
    "collapsed": true
   },
   "outputs": [],
   "source": [
    "import sys\n",
    "sys.path.append('..')"
   ]
  },
  {
   "cell_type": "code",
   "execution_count": 2,
   "metadata": {
    "collapsed": true
   },
   "outputs": [],
   "source": [
    "import numpy as np\n",
    "import matplotlib.pylab as plt\n",
    "\n",
    "import chainer\n",
    "import chainer.links as L\n",
    "import chainer.functions as F\n",
    "\n",
    "import varit.random_variables as rv\n",
    "from varit.models import ae"
   ]
  },
  {
   "cell_type": "code",
   "execution_count": 3,
   "metadata": {
    "collapsed": true
   },
   "outputs": [],
   "source": [
    "%matplotlib inline"
   ]
  },
  {
   "cell_type": "code",
   "execution_count": 4,
   "metadata": {
    "collapsed": true
   },
   "outputs": [],
   "source": [
    "gpu = 0"
   ]
  },
  {
   "cell_type": "markdown",
   "metadata": {},
   "source": [
    "# load data"
   ]
  },
  {
   "cell_type": "code",
   "execution_count": 5,
   "metadata": {
    "collapsed": true
   },
   "outputs": [],
   "source": [
    "mnist = chainer.datasets.get_mnist()"
   ]
  },
  {
   "cell_type": "markdown",
   "metadata": {},
   "source": [
    "# define network"
   ]
  },
  {
   "cell_type": "code",
   "execution_count": 6,
   "metadata": {
    "collapsed": true
   },
   "outputs": [],
   "source": [
    "class Net1out(chainer.Chain):\n",
    "    def __init__(self, sensor, hidden, latent):\n",
    "        super().__init__(\n",
    "            l1=L.Linear(sensor, hidden),\n",
    "            l2=L.Linear(hidden, hidden),\n",
    "            l3=L.Linear(hidden, hidden),\n",
    "            m0=L.Linear(hidden, latent),\n",
    "        )\n",
    "\n",
    "    def __call__(self, x):\n",
    "        h = F.relu(self.l1(x))\n",
    "        h = F.relu(self.l2(h))\n",
    "        h = F.relu(self.l3(h))\n",
    "        m0 = self.m0(h)\n",
    "        return m0"
   ]
  },
  {
   "cell_type": "markdown",
   "metadata": {},
   "source": [
    "# define model"
   ]
  },
  {
   "cell_type": "code",
   "execution_count": 7,
   "metadata": {
    "collapsed": true
   },
   "outputs": [],
   "source": [
    "sensor_x = 28 * 28\n",
    "hidden = 1024\n",
    "zdim_z = 40\n",
    "\n",
    "encoder = Net1out(sensor_x, hidden, zdim_z)\n",
    "decoder = Net1out(zdim_z, hidden, sensor_x)\n",
    "\n",
    "model = ae.AE(encoder, decoder)\n",
    "\n",
    "optimizer = chainer.optimizers.Adam()\n",
    "optimizer.setup(model)"
   ]
  },
  {
   "cell_type": "code",
   "execution_count": 8,
   "metadata": {
    "collapsed": true
   },
   "outputs": [],
   "source": [
    "if 0 <= gpu:\n",
    "    model.to_gpu(gpu)\n",
    "    xp = chainer.cuda.cupy\n",
    "    chainer.cuda.get_device(gpu).use()\n",
    "else:\n",
    "    xp = np"
   ]
  },
  {
   "cell_type": "code",
   "execution_count": 9,
   "metadata": {
    "scrolled": true
   },
   "outputs": [
    {
     "name": "stdout",
     "output_type": "stream",
     "text": [
      "epoch 0\n",
      "train mean loss=0.0002492040960739056\n",
      "epoch 1\n",
      "train mean loss=0.00012077541110726694\n",
      "epoch 2\n",
      "train mean loss=9.951587580144405e-05\n",
      "epoch 3\n",
      "train mean loss=8.8656281066748e-05\n",
      "epoch 4\n",
      "train mean loss=8.207643612598379e-05\n",
      "epoch 5\n",
      "train mean loss=7.690170405743022e-05\n",
      "epoch 6\n",
      "train mean loss=7.354211198786895e-05\n",
      "epoch 7\n",
      "train mean loss=7.045473175433775e-05\n",
      "epoch 8\n",
      "train mean loss=6.831978901755064e-05\n",
      "epoch 9\n",
      "train mean loss=6.568695548145721e-05\n",
      "epoch 10\n",
      "train mean loss=6.416392620497693e-05\n",
      "epoch 11\n",
      "train mean loss=6.259237648143122e-05\n",
      "epoch 12\n",
      "train mean loss=6.0678053018637004e-05\n",
      "epoch 13\n",
      "train mean loss=5.932067270235469e-05\n",
      "epoch 14\n",
      "train mean loss=5.820333796242873e-05\n",
      "epoch 15\n",
      "train mean loss=5.7036871338884035e-05\n",
      "epoch 16\n",
      "train mean loss=5.614472742502888e-05\n",
      "epoch 17\n",
      "train mean loss=5.493248368923863e-05\n",
      "epoch 18\n",
      "train mean loss=5.4101091592262186e-05\n",
      "epoch 19\n",
      "train mean loss=5.293173948302865e-05\n",
      "epoch 20\n",
      "train mean loss=5.2231141086667775e-05\n",
      "epoch 21\n",
      "train mean loss=5.1427470333874224e-05\n",
      "epoch 22\n",
      "train mean loss=5.070350238432487e-05\n",
      "epoch 23\n",
      "train mean loss=4.984707604938497e-05\n",
      "epoch 24\n",
      "train mean loss=4.95191012819608e-05\n",
      "epoch 25\n",
      "train mean loss=4.864178851712495e-05\n",
      "epoch 26\n",
      "train mean loss=4.8123749741353094e-05\n",
      "epoch 27\n",
      "train mean loss=4.745747516086946e-05\n",
      "epoch 28\n",
      "train mean loss=4.6840317128226164e-05\n",
      "epoch 29\n",
      "train mean loss=4.641787774550418e-05\n",
      "epoch 30\n",
      "train mean loss=4.584570354782045e-05\n",
      "epoch 31\n",
      "train mean loss=4.561908265653377e-05\n",
      "epoch 32\n",
      "train mean loss=4.4919967732857914e-05\n",
      "epoch 33\n",
      "train mean loss=4.4555019730857264e-05\n",
      "epoch 34\n",
      "train mean loss=4.416780256821464e-05\n",
      "epoch 35\n",
      "train mean loss=4.3711958456939705e-05\n",
      "epoch 36\n",
      "train mean loss=4.335853985976428e-05\n",
      "epoch 37\n",
      "train mean loss=4.285525698990871e-05\n",
      "epoch 38\n",
      "train mean loss=4.2533406754955646e-05\n",
      "epoch 39\n",
      "train mean loss=4.235626416048035e-05\n",
      "epoch 40\n",
      "train mean loss=4.193050216029709e-05\n",
      "epoch 41\n",
      "train mean loss=4.1693819162901494e-05\n",
      "epoch 42\n",
      "train mean loss=4.125330593281736e-05\n",
      "epoch 43\n",
      "train mean loss=4.0774843903879326e-05\n",
      "epoch 44\n",
      "train mean loss=4.070205071475357e-05\n",
      "epoch 45\n",
      "train mean loss=4.0711220594433444e-05\n",
      "epoch 46\n",
      "train mean loss=4.004139980534092e-05\n",
      "epoch 47\n",
      "train mean loss=3.9839571233217916e-05\n",
      "epoch 48\n",
      "train mean loss=3.9564986352343114e-05\n",
      "epoch 49\n",
      "train mean loss=3.950040645431727e-05\n"
     ]
    }
   ],
   "source": [
    "n_epoch = 50\n",
    "batchsize = 100\n",
    "N = mnist[0].__len__()\n",
    "\n",
    "sum_loss_log = []\n",
    "\n",
    "for epoch in range(0, n_epoch):\n",
    "    print('epoch', epoch)\n",
    "\n",
    "    perm = np.random.permutation(N)\n",
    "    \n",
    "    sum_loss = 0\n",
    "    for i in range(0, N, batchsize):\n",
    "        images, _ = mnist[0].__getitem__([perm[i:i + batchsize]])\n",
    "        x_batch = chainer.Variable(xp.array(images))\n",
    "        loss = model.loss(x_batch)\n",
    "        \n",
    "        sum_loss += float(loss.data)\n",
    "        model.zerograds()\n",
    "        loss.backward()\n",
    "        optimizer.update()\n",
    "        \n",
    "    sum_loss_log.append(sum_loss / N)\n",
    "    print('train mean loss={}'.format(sum_loss / N))"
   ]
  },
  {
   "cell_type": "code",
   "execution_count": 10,
   "metadata": {},
   "outputs": [
    {
     "data": {
      "text/plain": [
       "[<matplotlib.lines.Line2D at 0x7fbcf02d76d8>]"
      ]
     },
     "execution_count": 10,
     "metadata": {},
     "output_type": "execute_result"
    },
    {
     "data": {
      "image/png": "[encoded data removed]",
      "text/plain": [
       "<matplotlib.figure.Figure at 0x7fbd285a5a58>"
      ]
     },
     "metadata": {},
     "output_type": "display_data"
    }
   ],
   "source": [
    "plt.plot(sum_loss_log)"
   ]
  },
  {
   "cell_type": "code",
   "execution_count": 11,
   "metadata": {
    "collapsed": true
   },
   "outputs": [],
   "source": [
    "model.to_cpu()\n",
    "xp = np"
   ]
  },
  {
   "cell_type": "code",
   "execution_count": 12,
   "metadata": {
    "collapsed": true
   },
   "outputs": [],
   "source": [
    "model_file_name = 'ae_mnist'"
   ]
  },
  {
   "cell_type": "code",
   "execution_count": 13,
   "metadata": {},
   "outputs": [
    {
     "name": "stdout",
     "output_type": "stream",
     "text": [
      "save the model\n",
      "save the optimizer\n"
     ]
    }
   ],
   "source": [
    "print('save the model')\n",
    "chainer.serializers.save_npz(model_file_name + '.model', model)\n",
    "print('save the optimizer')\n",
    "chainer.serializers.save_npz(model_file_name + '.state', optimizer)"
   ]
  },
  {
   "cell_type": "code",
   "execution_count": 14,
   "metadata": {},
   "outputs": [
    {
     "name": "stdout",
     "output_type": "stream",
     "text": [
      "load the model\n",
      "load the optimizer\n"
     ]
    }
   ],
   "source": [
    "print('load the model')\n",
    "chainer.serializers.load_npz(model_file_name + '.model', model)\n",
    "print('load the optimizer')\n",
    "chainer.serializers.load_npz(model_file_name + '.state', optimizer)"
   ]
  },
  {
   "cell_type": "code",
   "execution_count": 15,
   "metadata": {
    "collapsed": true
   },
   "outputs": [],
   "source": [
    "train_ind = [np.where(mnist[1].__getitem__(range(100))[1] == i)[0][0] for i in range(10)]\n",
    "images, _ = mnist[1].__getitem__(train_ind)\n",
    "x_batch = chainer.Variable(xp.array(images))\n",
    "with chainer.no_backprop_mode(), chainer.using_config('train', False):\n",
    "    x_hat = model.reconstract(x_batch)"
   ]
  },
  {
   "cell_type": "code",
   "execution_count": 17,
   "metadata": {
    "scrolled": false
   },
   "outputs": [
    {
     "data": {
      "image/png": "[encoded data removed]",
      "text/plain": [
       "<matplotlib.figure.Figure at 0x7fbcf025f390>"
      ]
     },
     "metadata": {},
     "output_type": "display_data"
    },
    {
     "data": {
      "image/png": "[encoded data removed]",
      "text/plain": [
       "<matplotlib.figure.Figure at 0x7fbcf0121748>"
      ]
     },
     "metadata": {},
     "output_type": "display_data"
    },
    {
     "data": {
      "image/png": "[encoded data removed]",
      "text/plain": [
       "<matplotlib.figure.Figure at 0x7fbcf00808d0>"
      ]
     },
     "metadata": {},
     "output_type": "display_data"
    },
    {
     "data": {
      "image/png": "[encoded data removed]",
      "text/plain": [
       "<matplotlib.figure.Figure at 0x7fbceff6d668>"
      ]
     },
     "metadata": {},
     "output_type": "display_data"
    },
    {
     "data": {
      "image/png": "[encoded data removed]",
      "text/plain": [
       "<matplotlib.figure.Figure at 0x7fbcefeab470>"
      ]
     },
     "metadata": {},
     "output_type": "display_data"
    },
    {
     "data": {
      "image/png": "[encoded data removed]",
      "text/plain": [
       "<matplotlib.figure.Figure at 0x7fbcefe0aef0>"
      ]
     },
     "metadata": {},
     "output_type": "display_data"
    },
    {
     "data": {
      "image/png": "[encoded data removed]",
      "text/plain": [
       "<matplotlib.figure.Figure at 0x7fbcefce88d0>"
      ]
     },
     "metadata": {},
     "output_type": "display_data"
    },
    {
     "data": {
      "image/png": "[encoded data removed]",
      "text/plain": [
       "<matplotlib.figure.Figure at 0x7fbcefc7d320>"
      ]
     },
     "metadata": {},
     "output_type": "display_data"
    },
    {
     "data": {
      "image/png": "[encoded data removed]",
      "text/plain": [
       "<matplotlib.figure.Figure at 0x7fbcedd5ca58>"
      ]
     },
     "metadata": {},
     "output_type": "display_data"
    },
    {
     "data": {
      "image/png": "[encoded data removed]",
      "text/plain": [
       "<matplotlib.figure.Figure at 0x7fbcedc43be0>"
      ]
     },
     "metadata": {},
     "output_type": "display_data"
    }
   ],
   "source": [
    "for i in range(len(x_hat)):\n",
    "    plt.figure()\n",
    "    plt.subplot(1, 2, 1)\n",
    "    plt.imshow(images[i].reshape(28, 28))\n",
    "    plt.subplot(1, 2, 2)\n",
    "    plt.imshow(x_hat.data[i].reshape(28, 28), vmin=0, vmax=1)"
   ]
  }
 ],
 "metadata": {
  "kernelspec": {
   "display_name": "Python 3",
   "language": "python",
   "name": "python3"
  },
  "language_info": {
   "codemirror_mode": {
    "name": "ipython",
    "version": 3
   },
   "file_extension": ".py",
   "mimetype": "text/x-python",
   "name": "python",
   "nbconvert_exporter": "python",
   "pygments_lexer": "ipython3",
   "version": "3.6.1"
  }
 },
 "nbformat": 4,
 "nbformat_minor": 2
}
