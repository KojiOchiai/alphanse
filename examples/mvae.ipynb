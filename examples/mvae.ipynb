{
 "cells": [
  {
   "cell_type": "code",
   "execution_count": 1,
   "metadata": {
    "collapsed": true
   },
   "outputs": [],
   "source": [
    "import sys\n",
    "sys.path.append('..')"
   ]
  },
  {
   "cell_type": "code",
   "execution_count": 2,
   "metadata": {
    "collapsed": true
   },
   "outputs": [],
   "source": [
    "import numpy as np\n",
    "import matplotlib.pylab as plt\n",
    "\n",
    "import chainer\n",
    "import chainer.links as L\n",
    "import chainer.functions as F\n",
    "\n",
    "import varit\n",
    "import varit.random_variables as rv\n",
    "from varit.models import mvae"
   ]
  },
  {
   "cell_type": "code",
   "execution_count": 3,
   "metadata": {
    "collapsed": true
   },
   "outputs": [],
   "source": [
    "%matplotlib inline"
   ]
  },
  {
   "cell_type": "code",
   "execution_count": 4,
   "metadata": {
    "collapsed": true
   },
   "outputs": [],
   "source": [
    "gpu = 0"
   ]
  },
  {
   "cell_type": "markdown",
   "metadata": {},
   "source": [
    "# load data"
   ]
  },
  {
   "cell_type": "code",
   "execution_count": 5,
   "metadata": {
    "collapsed": true
   },
   "outputs": [],
   "source": [
    "mnist = chainer.datasets.get_mnist()"
   ]
  },
  {
   "cell_type": "markdown",
   "metadata": {},
   "source": [
    "# define network"
   ]
  },
  {
   "cell_type": "code",
   "execution_count": 6,
   "metadata": {
    "collapsed": true
   },
   "outputs": [],
   "source": [
    "class Net1out(chainer.Chain):\n",
    "    def __init__(self, sensor, hidden, latent):\n",
    "        super().__init__(\n",
    "            l1=L.Linear(sensor, hidden),\n",
    "            l2=L.Linear(hidden, hidden),\n",
    "            l3=L.Linear(hidden, hidden),\n",
    "            m0=L.Linear(hidden, latent),\n",
    "        )\n",
    "\n",
    "    def __call__(self, x):\n",
    "        h = F.relu(self.l1(x))\n",
    "        h = F.relu(self.l2(h))\n",
    "        h = F.relu(self.l3(h))\n",
    "        m0 = self.m0(h)\n",
    "        return m0"
   ]
  },
  {
   "cell_type": "code",
   "execution_count": 7,
   "metadata": {
    "collapsed": true
   },
   "outputs": [],
   "source": [
    "class Net2out(chainer.Chain):\n",
    "    def __init__(self, sensor, hidden, latent):\n",
    "        super().__init__(\n",
    "            l1=L.Linear(sensor, hidden),\n",
    "            l2=L.Linear(hidden, hidden),\n",
    "            l3=L.Linear(hidden, hidden),\n",
    "            m0=L.Linear(hidden, latent),\n",
    "            m1=L.Linear(hidden, latent)\n",
    "        )\n",
    "\n",
    "    def __call__(self, x):\n",
    "        h = F.relu(self.l1(x))\n",
    "        h = F.relu(self.l2(h))\n",
    "        h = F.relu(self.l3(h))\n",
    "        m0 = self.m0(h)\n",
    "        m1 = self.m1(h)\n",
    "        return m0, m1"
   ]
  },
  {
   "cell_type": "markdown",
   "metadata": {},
   "source": [
    "# define model"
   ]
  },
  {
   "cell_type": "code",
   "execution_count": 8,
   "metadata": {
    "collapsed": true
   },
   "outputs": [],
   "source": [
    "sensor_x = 28 * 28\n",
    "sensor_y = 10\n",
    "hidden = 1024\n",
    "zdim_z = 40\n",
    "\n",
    "qzgxy  = rv.ConditionalGaussian(Net2out(sensor_x + sensor_y, hidden, zdim_z))\n",
    "pxgz = rv.ConditionalBernoulli(Net1out(zdim_z, hidden, sensor_x))\n",
    "pygz = rv.ConditionalCategorical(Net1out(zdim_z, hidden, sensor_y))\n",
    "\n",
    "model = mvae.MVAE(qzgxy, pxgz, pygz)\n",
    "\n",
    "optimizer = chainer.optimizers.Adam()\n",
    "optimizer.setup(model)"
   ]
  },
  {
   "cell_type": "code",
   "execution_count": 9,
   "metadata": {},
   "outputs": [],
   "source": [
    "if 0 <= gpu:\n",
    "    model.to_gpu(gpu)\n",
    "    xp = chainer.cuda.cupy\n",
    "    chainer.cuda.get_device(gpu).use()\n",
    "else:\n",
    "    xp = np"
   ]
  },
  {
   "cell_type": "code",
   "execution_count": 10,
   "metadata": {
    "scrolled": true
   },
   "outputs": [
    {
     "name": "stdout",
     "output_type": "stream",
     "text": [
      "epoch 0\n",
      "train mean loss=160.48311069488526\n",
      "epoch 1\n",
      "train mean loss=124.69859355926513\n",
      "epoch 2\n",
      "train mean loss=118.24978024800619\n",
      "epoch 3\n",
      "train mean loss=115.09866663614909\n",
      "epoch 4\n",
      "train mean loss=112.9993269220988\n",
      "epoch 5\n",
      "train mean loss=110.93417457580567\n",
      "epoch 6\n",
      "train mean loss=109.23342212677002\n",
      "epoch 7\n",
      "train mean loss=108.09649383544922\n",
      "epoch 8\n",
      "train mean loss=107.1836876296997\n",
      "epoch 9\n",
      "train mean loss=106.4564375559489\n",
      "epoch 10\n",
      "train mean loss=105.92926490783691\n",
      "epoch 11\n",
      "train mean loss=105.35362141927084\n",
      "epoch 12\n",
      "train mean loss=104.8065049235026\n",
      "epoch 13\n",
      "train mean loss=104.3501952234904\n",
      "epoch 14\n",
      "train mean loss=103.9639158376058\n",
      "epoch 15\n",
      "train mean loss=103.51910676320394\n",
      "epoch 16\n",
      "train mean loss=103.21299129486084\n",
      "epoch 17\n",
      "train mean loss=102.78098149617513\n",
      "epoch 18\n",
      "train mean loss=102.49037167867024\n",
      "epoch 19\n",
      "train mean loss=102.12926433563233\n",
      "epoch 20\n",
      "train mean loss=101.85999548594157\n",
      "epoch 21\n",
      "train mean loss=101.60962726593017\n",
      "epoch 22\n",
      "train mean loss=101.33219918568929\n",
      "epoch 23\n",
      "train mean loss=101.07578782399496\n",
      "epoch 24\n",
      "train mean loss=100.9137849299113\n",
      "epoch 25\n",
      "train mean loss=100.60735211690267\n",
      "epoch 26\n",
      "train mean loss=100.47814603169759\n",
      "epoch 27\n",
      "train mean loss=100.2495925394694\n",
      "epoch 28\n",
      "train mean loss=100.13596271514892\n",
      "epoch 29\n",
      "train mean loss=99.96496920267741\n",
      "epoch 30\n",
      "train mean loss=99.75423468271892\n",
      "epoch 31\n",
      "train mean loss=99.61215934753417\n",
      "epoch 32\n",
      "train mean loss=99.47221825917562\n",
      "epoch 33\n",
      "train mean loss=99.26426181793212\n",
      "epoch 34\n",
      "train mean loss=99.20370566050211\n",
      "epoch 35\n",
      "train mean loss=99.05034503936767\n",
      "epoch 36\n",
      "train mean loss=98.88727621714274\n",
      "epoch 37\n",
      "train mean loss=98.77224529266357\n",
      "epoch 38\n",
      "train mean loss=98.73831461588541\n",
      "epoch 39\n",
      "train mean loss=98.53749340057374\n",
      "epoch 40\n",
      "train mean loss=98.47200541178385\n",
      "epoch 41\n",
      "train mean loss=98.3602377319336\n",
      "epoch 42\n",
      "train mean loss=98.27196083068847\n",
      "epoch 43\n",
      "train mean loss=98.10266349792481\n",
      "epoch 44\n",
      "train mean loss=98.08746682484944\n",
      "epoch 45\n",
      "train mean loss=97.99669751485189\n",
      "epoch 46\n",
      "train mean loss=97.92899218241374\n",
      "epoch 47\n",
      "train mean loss=97.83306294759115\n",
      "epoch 48\n",
      "train mean loss=97.73515511830648\n",
      "epoch 49\n",
      "train mean loss=97.66752134958902\n"
     ]
    }
   ],
   "source": [
    "n_epoch = 50\n",
    "batchsize = 100\n",
    "N = mnist[0].__len__()\n",
    "\n",
    "sum_loss_log = []\n",
    "\n",
    "for epoch in range(0, n_epoch):\n",
    "    print('epoch', epoch)\n",
    "\n",
    "    perm = np.random.permutation(N)\n",
    "    \n",
    "    sum_loss = 0\n",
    "    for i in range(0, N, batchsize):\n",
    "        images, labels = mnist[0].__getitem__([perm[i:i + batchsize]])\n",
    "        x_batch = chainer.Variable(xp.array(images))\n",
    "        y_batch = chainer.Variable(xp.array(varit.utils.one_hot(labels)))\n",
    "        loss = model.lower_bound(x_batch, y_batch)\n",
    "        \n",
    "        sum_loss += float(loss.data) * batchsize\n",
    "        model.zerograds()\n",
    "        loss.backward()\n",
    "        optimizer.update()\n",
    "        \n",
    "    sum_loss_log.append(sum_loss / N)\n",
    "    print('train mean loss={}'.format(sum_loss / N))"
   ]
  },
  {
   "cell_type": "code",
   "execution_count": 11,
   "metadata": {},
   "outputs": [
    {
     "data": {
      "text/plain": [
       "[<matplotlib.lines.Line2D at 0x7f4e68cc4d68>]"
      ]
     },
     "execution_count": 11,
     "metadata": {},
     "output_type": "execute_result"
    },
    {
     "data": {
      "image/png": "[encoded data removed]",
      "text/plain": [
       "<matplotlib.figure.Figure at 0x7f4e68d4bcf8>"
      ]
     },
     "metadata": {},
     "output_type": "display_data"
    }
   ],
   "source": [
    "plt.plot(sum_loss_log)"
   ]
  },
  {
   "cell_type": "code",
   "execution_count": 12,
   "metadata": {
    "collapsed": true
   },
   "outputs": [],
   "source": [
    "model.to_cpu()\n",
    "xp = np"
   ]
  },
  {
   "cell_type": "code",
   "execution_count": 13,
   "metadata": {
    "collapsed": true
   },
   "outputs": [],
   "source": [
    "model_file_name = 'mvae_mnist'"
   ]
  },
  {
   "cell_type": "code",
   "execution_count": 14,
   "metadata": {},
   "outputs": [
    {
     "name": "stdout",
     "output_type": "stream",
     "text": [
      "save the model\n",
      "save the optimizer\n"
     ]
    }
   ],
   "source": [
    "print('save the model')\n",
    "chainer.serializers.save_npz(model_file_name + '.model', model)\n",
    "print('save the optimizer')\n",
    "chainer.serializers.save_npz(model_file_name + '.state', optimizer)"
   ]
  },
  {
   "cell_type": "code",
   "execution_count": 15,
   "metadata": {},
   "outputs": [
    {
     "name": "stdout",
     "output_type": "stream",
     "text": [
      "load the model\n",
      "load the optimizer\n"
     ]
    }
   ],
   "source": [
    "print('load the model')\n",
    "chainer.serializers.load_npz(model_file_name + '.model', model)\n",
    "print('load the optimizer')\n",
    "chainer.serializers.load_npz(model_file_name + '.state', optimizer)"
   ]
  },
  {
   "cell_type": "code",
   "execution_count": 16,
   "metadata": {
    "collapsed": true
   },
   "outputs": [],
   "source": [
    "train_ind = [np.where(mnist[1].__getitem__(range(100))[1] == i)[0][0] for i in range(10)]\n",
    "images, labels = mnist[1].__getitem__(train_ind)\n",
    "x_batch = chainer.Variable(xp.array(images))\n",
    "y_batch = chainer.Variable(xp.array(varit.utils.one_hot(labels)))\n",
    "with chainer.no_backprop_mode(), chainer.using_config('train', False):\n",
    "    px, py = model.reconstract_multiple(x_batch, y_batch)"
   ]
  },
  {
   "cell_type": "code",
   "execution_count": 17,
   "metadata": {
    "scrolled": false
   },
   "outputs": [
    {
     "name": "stdout",
     "output_type": "stream",
     "text": [
      "[2 4 3 9 9 7 2 1 3 9]\n"
     ]
    },
    {
     "data": {
      "image/png": "[encoded data removed]",
      "text/plain": [
       "<matplotlib.figure.Figure at 0x7f4e68c4fc18>"
      ]
     },
     "metadata": {},
     "output_type": "display_data"
    },
    {
     "data": {
      "image/png": "[encoded data removed]",
      "text/plain": [
       "<matplotlib.figure.Figure at 0x7f4e68b6a128>"
      ]
     },
     "metadata": {},
     "output_type": "display_data"
    },
    {
     "data": {
      "image/png": "[encoded data removed]",
      "text/plain": [
       "<matplotlib.figure.Figure at 0x7f4e68a4a2e8>"
      ]
     },
     "metadata": {},
     "output_type": "display_data"
    },
    {
     "data": {
      "image/png": "[encoded data removed]",
      "text/plain": [
       "<matplotlib.figure.Figure at 0x7f4e689a3518>"
      ]
     },
     "metadata": {},
     "output_type": "display_data"
    },
    {
     "data": {
      "image/png": "[encoded data removed]",
      "text/plain": [
       "<matplotlib.figure.Figure at 0x7f4e688f9668>"
      ]
     },
     "metadata": {},
     "output_type": "display_data"
    },
    {
     "data": {
      "image/png": "[encoded data removed]",
      "text/plain": [
       "<matplotlib.figure.Figure at 0x7f4e687d28d0>"
      ]
     },
     "metadata": {},
     "output_type": "display_data"
    },
    {
     "data": {
      "image/png": "[encoded data removed]",
      "text/plain": [
       "<matplotlib.figure.Figure at 0x7f4e687374a8>"
      ]
     },
     "metadata": {},
     "output_type": "display_data"
    },
    {
     "data": {
      "image/png": "[encoded data removed]",
      "text/plain": [
       "<matplotlib.figure.Figure at 0x7f4e667f3748>"
      ]
     },
     "metadata": {},
     "output_type": "display_data"
    },
    {
     "data": {
      "image/png": "[encoded data removed]",
      "text/plain": [
       "<matplotlib.figure.Figure at 0x7f4e66817390>"
      ]
     },
     "metadata": {},
     "output_type": "display_data"
    },
    {
     "data": {
      "image/png": "[encoded data removed]",
      "text/plain": [
       "<matplotlib.figure.Figure at 0x7f4e666909b0>"
      ]
     },
     "metadata": {},
     "output_type": "display_data"
    }
   ],
   "source": [
    "print(np.argmax(py.get_params().data, axis=1))\n",
    "for i in range(len(px.get_params()[0])):\n",
    "    plt.figure()\n",
    "    plt.subplot(1, 2, 1)\n",
    "    plt.imshow(images[i].reshape(28, 28))\n",
    "    plt.subplot(1, 2, 2)\n",
    "    plt.imshow(px.get_params()[0].data[i].reshape(28, 28))"
   ]
  }
 ],
 "metadata": {
  "kernelspec": {
   "display_name": "Python 3",
   "language": "python",
   "name": "python3"
  },
  "language_info": {
   "codemirror_mode": {
    "name": "ipython",
    "version": 3
   },
   "file_extension": ".py",
   "mimetype": "text/x-python",
   "name": "python",
   "nbconvert_exporter": "python",
   "pygments_lexer": "ipython3",
   "version": "3.6.1"
  }
 },
 "nbformat": 4,
 "nbformat_minor": 2
}
