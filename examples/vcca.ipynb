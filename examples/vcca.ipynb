{
 "cells": [
  {
   "cell_type": "code",
   "execution_count": 1,
   "metadata": {
    "collapsed": true
   },
   "outputs": [],
   "source": [
    "import sys\n",
    "sys.path.append('..')"
   ]
  },
  {
   "cell_type": "code",
   "execution_count": 2,
   "metadata": {
    "collapsed": true
   },
   "outputs": [],
   "source": [
    "import numpy as np\n",
    "import matplotlib.pylab as plt\n",
    "\n",
    "import chainer\n",
    "import chainer.links as L\n",
    "import chainer.functions as F\n",
    "\n",
    "import varit\n",
    "import varit.random_variables as rv\n",
    "from varit.models import vcca"
   ]
  },
  {
   "cell_type": "code",
   "execution_count": 3,
   "metadata": {},
   "outputs": [
    {
     "data": {
      "text/plain": [
       "<module 'varit.models.vcca' from '../varit/models/vcca.py'>"
      ]
     },
     "execution_count": 3,
     "metadata": {},
     "output_type": "execute_result"
    }
   ],
   "source": [
    "import imp\n",
    "imp.reload(varit)\n",
    "imp.reload(rv)\n",
    "imp.reload(vcca)"
   ]
  },
  {
   "cell_type": "code",
   "execution_count": 4,
   "metadata": {
    "collapsed": true
   },
   "outputs": [],
   "source": [
    "%matplotlib inline"
   ]
  },
  {
   "cell_type": "code",
   "execution_count": 5,
   "metadata": {
    "collapsed": true
   },
   "outputs": [],
   "source": [
    "gpu = 0"
   ]
  },
  {
   "cell_type": "markdown",
   "metadata": {},
   "source": [
    "# load data"
   ]
  },
  {
   "cell_type": "code",
   "execution_count": 6,
   "metadata": {
    "collapsed": true
   },
   "outputs": [],
   "source": [
    "mnist = chainer.datasets.get_mnist()"
   ]
  },
  {
   "cell_type": "markdown",
   "metadata": {},
   "source": [
    "# define network"
   ]
  },
  {
   "cell_type": "code",
   "execution_count": 7,
   "metadata": {
    "collapsed": true
   },
   "outputs": [],
   "source": [
    "class Net1out(chainer.Chain):\n",
    "    def __init__(self, sensor, hidden, latent, dr=0.1):\n",
    "        super().__init__(\n",
    "            l1=L.Linear(sensor, hidden),\n",
    "            l2=L.Linear(hidden, hidden),\n",
    "            l3=L.Linear(hidden, hidden),\n",
    "            m0=L.Linear(hidden, latent),\n",
    "        )\n",
    "        self.dr = dr\n",
    "\n",
    "    def __call__(self, x):\n",
    "        h = F.relu(self.l1(x))\n",
    "        h = F.dropout(h, ratio=self.dr)\n",
    "        h = F.relu(self.l2(h))\n",
    "        h = F.dropout(h, ratio=self.dr)\n",
    "        h = F.relu(self.l3(h))\n",
    "        h = F.dropout(h, ratio=self.dr)\n",
    "        m0 = self.m0(h)\n",
    "        return m0"
   ]
  },
  {
   "cell_type": "code",
   "execution_count": 8,
   "metadata": {
    "collapsed": true
   },
   "outputs": [],
   "source": [
    "class Net2out(chainer.Chain):\n",
    "    def __init__(self, sensor, hidden, latent, dr=0.1):\n",
    "        super().__init__(\n",
    "            l1=L.Linear(sensor, hidden),\n",
    "            l2=L.Linear(hidden, hidden),\n",
    "            l3=L.Linear(hidden, hidden),\n",
    "            m0=L.Linear(hidden, latent),\n",
    "            m1=L.Linear(hidden, latent)\n",
    "        )\n",
    "        self.dr = dr\n",
    "\n",
    "    def __call__(self, x):\n",
    "        h = F.relu(self.l1(x))\n",
    "        h = F.dropout(h, ratio=self.dr)\n",
    "        h = F.relu(self.l2(h))\n",
    "        h = F.dropout(h, ratio=self.dr)\n",
    "        h = F.relu(self.l3(h))\n",
    "        h = F.dropout(h, ratio=self.dr)\n",
    "        m0 = self.m0(h)\n",
    "        m1 = self.m1(h)\n",
    "        return m0, m1"
   ]
  },
  {
   "cell_type": "markdown",
   "metadata": {},
   "source": [
    "# define model"
   ]
  },
  {
   "cell_type": "code",
   "execution_count": 9,
   "metadata": {
    "collapsed": true
   },
   "outputs": [],
   "source": [
    "sensor_x = 28 * 28\n",
    "sensor_y = 10\n",
    "hidden = 1024\n",
    "zdim_z = 20\n",
    "zdim_zx = 40\n",
    "zdim_zy = 3\n",
    "dr = 0.1\n",
    "\n",
    "qzxgx  = rv.ConditionalGaussian(Net2out(sensor_x, hidden, zdim_zx, dr=dr))\n",
    "qzgx   = rv.ConditionalGaussian(Net2out(sensor_x, hidden, zdim_z, dr=dr))\n",
    "qzgy   = rv.ConditionalGaussian(Net2out(sensor_y, hidden, zdim_z, dr=dr))\n",
    "qzygy  = rv.ConditionalGaussian(Net2out(sensor_y, hidden, zdim_zy, dr=dr))\n",
    "pxgzxz = rv.ConditionalBernoulli(Net1out(zdim_z + zdim_zx, hidden, sensor_x, dr=dr))\n",
    "pygzyz = rv.ConditionalCategorical(Net1out(zdim_z + zdim_zy, hidden, sensor_y, dr=dr))\n",
    "\n",
    "model = vcca.VCCA(qzxgx, qzgx, qzgy, qzygy, pxgzxz, pygzyz)\n",
    "\n",
    "optimizer = chainer.optimizers.Adam()\n",
    "optimizer.setup(model)"
   ]
  },
  {
   "cell_type": "code",
   "execution_count": 10,
   "metadata": {
    "collapsed": true
   },
   "outputs": [],
   "source": [
    "if 0 <= gpu:\n",
    "    model.to_gpu(gpu)\n",
    "    xp = chainer.cuda.cupy\n",
    "    chainer.cuda.get_device(gpu).use()\n",
    "else:\n",
    "    xp = np"
   ]
  },
  {
   "cell_type": "code",
   "execution_count": 11,
   "metadata": {
    "scrolled": true
   },
   "outputs": [
    {
     "name": "stdout",
     "output_type": "stream",
     "text": [
      "epoch 0\n",
      "train mean loss=170.87661542256674\n",
      "epoch 1\n",
      "train mean loss=135.32653293609619\n",
      "epoch 2\n",
      "train mean loss=127.4076435470581\n",
      "epoch 3\n",
      "train mean loss=122.99219703674316\n",
      "epoch 4\n",
      "train mean loss=120.9914117304484\n",
      "epoch 5\n",
      "train mean loss=119.50956109364827\n",
      "epoch 6\n",
      "train mean loss=118.68126037597656\n",
      "epoch 7\n",
      "train mean loss=117.95392748514811\n",
      "epoch 8\n",
      "train mean loss=117.31934079488119\n",
      "epoch 9\n",
      "train mean loss=116.73401176452637\n",
      "epoch 10\n",
      "train mean loss=116.42922663370769\n",
      "epoch 11\n",
      "train mean loss=115.97872266133626\n",
      "epoch 12\n",
      "train mean loss=115.66897252400716\n",
      "epoch 13\n",
      "train mean loss=115.37638840993246\n",
      "epoch 14\n",
      "train mean loss=115.20728583017986\n",
      "epoch 15\n",
      "train mean loss=114.9530654144287\n",
      "epoch 16\n",
      "train mean loss=114.75314888000489\n",
      "epoch 17\n",
      "train mean loss=114.55256548563639\n",
      "epoch 18\n",
      "train mean loss=114.26119467417399\n",
      "epoch 19\n",
      "train mean loss=114.17954470316569\n",
      "epoch 20\n",
      "train mean loss=114.14753976186117\n",
      "epoch 21\n",
      "train mean loss=113.93543968200683\n",
      "epoch 22\n",
      "train mean loss=113.88623936971028\n",
      "epoch 23\n",
      "train mean loss=113.69328619639079\n",
      "epoch 24\n",
      "train mean loss=113.56157524108886\n",
      "epoch 25\n",
      "train mean loss=113.45117790222167\n",
      "epoch 26\n",
      "train mean loss=113.33437157948812\n",
      "epoch 27\n",
      "train mean loss=113.30793212890624\n",
      "epoch 28\n",
      "train mean loss=113.15390405019124\n",
      "epoch 29\n",
      "train mean loss=113.17618423461914\n",
      "epoch 30\n",
      "train mean loss=113.03248414357503\n",
      "epoch 31\n",
      "train mean loss=113.01058581034343\n",
      "epoch 32\n",
      "train mean loss=112.82156065622965\n",
      "epoch 33\n",
      "train mean loss=112.84044634501139\n",
      "epoch 34\n",
      "train mean loss=112.74865838368734\n",
      "epoch 35\n",
      "train mean loss=112.60623018900553\n",
      "epoch 36\n",
      "train mean loss=112.59616860707601\n",
      "epoch 37\n",
      "train mean loss=112.5196999613444\n",
      "epoch 38\n",
      "train mean loss=112.48115145365396\n",
      "epoch 39\n",
      "train mean loss=112.38293746948243\n",
      "epoch 40\n",
      "train mean loss=112.33135133107503\n",
      "epoch 41\n",
      "train mean loss=112.37629044850668\n",
      "epoch 42\n",
      "train mean loss=112.26654635111491\n",
      "epoch 43\n",
      "train mean loss=112.22664849599202\n",
      "epoch 44\n",
      "train mean loss=112.15925871531168\n",
      "epoch 45\n",
      "train mean loss=112.17555992126465\n",
      "epoch 46\n",
      "train mean loss=112.09425478617351\n",
      "epoch 47\n",
      "train mean loss=112.0517815653483\n",
      "epoch 48\n",
      "train mean loss=111.94344011942546\n",
      "epoch 49\n",
      "train mean loss=111.88096918741861\n"
     ]
    }
   ],
   "source": [
    "n_epoch = 50\n",
    "batchsize = 100\n",
    "N = mnist[0].__len__()\n",
    "\n",
    "sum_loss_log = []\n",
    "\n",
    "for epoch in range(0, n_epoch):\n",
    "    print('epoch', epoch)\n",
    "\n",
    "    perm = np.random.permutation(N)\n",
    "    \n",
    "    sum_loss = 0\n",
    "    for i in range(0, N, batchsize):\n",
    "        images, labels = mnist[0].__getitem__([perm[i:i + batchsize]])\n",
    "        x_batch = chainer.Variable(xp.array(images))\n",
    "        y_batch = chainer.Variable(xp.array(varit.utils.one_hot(labels)))\n",
    "        loss, _ = model.lower_bound(x_batch, y_batch)\n",
    "        \n",
    "        sum_loss += float(loss.data) * batchsize\n",
    "        model.zerograds()\n",
    "        loss.backward()\n",
    "        optimizer.update()\n",
    "        \n",
    "    sum_loss_log.append(sum_loss / N)\n",
    "    print('train mean loss={}'.format(sum_loss / N))"
   ]
  },
  {
   "cell_type": "code",
   "execution_count": 12,
   "metadata": {},
   "outputs": [
    {
     "data": {
      "text/plain": [
       "[<matplotlib.lines.Line2D at 0x7ff818808898>]"
      ]
     },
     "execution_count": 12,
     "metadata": {},
     "output_type": "execute_result"
    },
    {
     "data": {
      "image/png": "[encoded data removed]",
      "text/plain": [
       "<matplotlib.figure.Figure at 0x7ff8188d3940>"
      ]
     },
     "metadata": {},
     "output_type": "display_data"
    }
   ],
   "source": [
    "plt.plot(sum_loss_log)"
   ]
  },
  {
   "cell_type": "code",
   "execution_count": 13,
   "metadata": {
    "collapsed": true
   },
   "outputs": [],
   "source": [
    "model.to_cpu()\n",
    "xp = np"
   ]
  },
  {
   "cell_type": "code",
   "execution_count": 14,
   "metadata": {
    "collapsed": true
   },
   "outputs": [],
   "source": [
    "model_file_name = 'vcca_mnist'"
   ]
  },
  {
   "cell_type": "code",
   "execution_count": 15,
   "metadata": {},
   "outputs": [
    {
     "name": "stdout",
     "output_type": "stream",
     "text": [
      "save the model\n",
      "save the optimizer\n"
     ]
    }
   ],
   "source": [
    "print('save the model')\n",
    "chainer.serializers.save_npz(model_file_name + '.model', model)\n",
    "print('save the optimizer')\n",
    "chainer.serializers.save_npz(model_file_name + '.state', optimizer)"
   ]
  },
  {
   "cell_type": "code",
   "execution_count": 16,
   "metadata": {},
   "outputs": [
    {
     "name": "stdout",
     "output_type": "stream",
     "text": [
      "load the model\n",
      "load the optimizer\n"
     ]
    }
   ],
   "source": [
    "print('load the model')\n",
    "chainer.serializers.load_npz(model_file_name + '.model', model)\n",
    "print('load the optimizer')\n",
    "chainer.serializers.load_npz(model_file_name + '.state', optimizer)"
   ]
  },
  {
   "cell_type": "code",
   "execution_count": 17,
   "metadata": {
    "collapsed": true
   },
   "outputs": [],
   "source": [
    "train_ind = [np.where(mnist[1].__getitem__(range(100))[1] == i)[0][0] for i in range(10)]\n",
    "images, labels = mnist[1].__getitem__(train_ind)\n",
    "x_batch = chainer.Variable(xp.array(images))\n",
    "y_batch = chainer.Variable(xp.array(varit.utils.one_hot(labels)))\n",
    "with chainer.no_backprop_mode(), chainer.using_config('train', False):\n",
    "    px, py = model.reconstract_multiple(x_batch, y_batch)"
   ]
  },
  {
   "cell_type": "code",
   "execution_count": 18,
   "metadata": {
    "scrolled": false
   },
   "outputs": [
    {
     "name": "stdout",
     "output_type": "stream",
     "text": [
      "[0 1 2 3 4 6 6 7 8 9]\n"
     ]
    },
    {
     "data": {
      "image/png": "[encoded data removed]",
      "text/plain": [
       "<matplotlib.figure.Figure at 0x7ff818744ac8>"
      ]
     },
     "metadata": {},
     "output_type": "display_data"
    },
    {
     "data": {
      "image/png": "[encoded data removed]",
      "text/plain": [
       "<matplotlib.figure.Figure at 0x7ff81868d668>"
      ]
     },
     "metadata": {},
     "output_type": "display_data"
    },
    {
     "data": {
      "image/png": "[encoded data removed]",
      "text/plain": [
       "<matplotlib.figure.Figure at 0x7ff818567438>"
      ]
     },
     "metadata": {},
     "output_type": "display_data"
    },
    {
     "data": {
      "image/png": "[encoded data removed]",
      "text/plain": [
       "<matplotlib.figure.Figure at 0x7ff8184ca7b8>"
      ]
     },
     "metadata": {},
     "output_type": "display_data"
    },
    {
     "data": {
      "image/png": "[encoded data removed]",
      "text/plain": [
       "<matplotlib.figure.Figure at 0x7ff81839bac8>"
      ]
     },
     "metadata": {},
     "output_type": "display_data"
    },
    {
     "data": {
      "image/png": "[encoded data removed]",
      "text/plain": [
       "<matplotlib.figure.Figure at 0x7ff818302470>"
      ]
     },
     "metadata": {},
     "output_type": "display_data"
    },
    {
     "data": {
      "image/png": "[encoded data removed]",
      "text/plain": [
       "<matplotlib.figure.Figure at 0x7ff8181e0710>"
      ]
     },
     "metadata": {},
     "output_type": "display_data"
    },
    {
     "data": {
      "image/png": "[encoded data removed]",
      "text/plain": [
       "<matplotlib.figure.Figure at 0x7ff818206470>"
      ]
     },
     "metadata": {},
     "output_type": "display_data"
    },
    {
     "data": {
      "image/png": "[encoded data removed]",
      "text/plain": [
       "<matplotlib.figure.Figure at 0x7ff81625da90>"
      ]
     },
     "metadata": {},
     "output_type": "display_data"
    },
    {
     "data": {
      "image/png": "[encoded data removed]",
      "text/plain": [
       "<matplotlib.figure.Figure at 0x7ff8161484a8>"
      ]
     },
     "metadata": {},
     "output_type": "display_data"
    }
   ],
   "source": [
    "print(np.argmax(py.get_params().data, axis=1))\n",
    "for i in range(len(px.get_params()[0])):\n",
    "    plt.figure()\n",
    "    plt.subplot(1, 2, 1)\n",
    "    plt.imshow(images[i].reshape(28, 28))\n",
    "    plt.subplot(1, 2, 2)\n",
    "    plt.imshow(px.get_params()[0].data[i].reshape(28, 28))"
   ]
  }
 ],
 "metadata": {
  "kernelspec": {
   "display_name": "Python 3",
   "language": "python",
   "name": "python3"
  },
  "language_info": {
   "codemirror_mode": {
    "name": "ipython",
    "version": 3
   },
   "file_extension": ".py",
   "mimetype": "text/x-python",
   "name": "python",
   "nbconvert_exporter": "python",
   "pygments_lexer": "ipython3",
   "version": "3.6.1"
  }
 },
 "nbformat": 4,
 "nbformat_minor": 2
}
