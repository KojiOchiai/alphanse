{
 "cells": [
  {
   "cell_type": "code",
   "execution_count": 1,
   "metadata": {
    "collapsed": true
   },
   "outputs": [],
   "source": [
    "import sys\n",
    "sys.path.append('..')"
   ]
  },
  {
   "cell_type": "code",
   "execution_count": 2,
   "metadata": {
    "collapsed": true
   },
   "outputs": [],
   "source": [
    "import numpy as np\n",
    "import matplotlib.pylab as plt\n",
    "\n",
    "import chainer\n",
    "import chainer.links as L\n",
    "import chainer.functions as F\n",
    "\n",
    "import varit.random_variables as rv\n",
    "from varit.models import vae"
   ]
  },
  {
   "cell_type": "code",
   "execution_count": 3,
   "metadata": {
    "collapsed": true
   },
   "outputs": [],
   "source": [
    "%matplotlib inline"
   ]
  },
  {
   "cell_type": "code",
   "execution_count": 4,
   "metadata": {
    "collapsed": true
   },
   "outputs": [],
   "source": [
    "gpu = 0"
   ]
  },
  {
   "cell_type": "markdown",
   "metadata": {},
   "source": [
    "# load data"
   ]
  },
  {
   "cell_type": "code",
   "execution_count": 5,
   "metadata": {
    "collapsed": true
   },
   "outputs": [],
   "source": [
    "mnist = chainer.datasets.get_mnist()"
   ]
  },
  {
   "cell_type": "markdown",
   "metadata": {},
   "source": [
    "# define network"
   ]
  },
  {
   "cell_type": "code",
   "execution_count": 6,
   "metadata": {
    "collapsed": true
   },
   "outputs": [],
   "source": [
    "class Net1out(chainer.Chain):\n",
    "    def __init__(self, sensor, hidden, latent):\n",
    "        super().__init__(\n",
    "            l1=L.Linear(sensor, hidden),\n",
    "            l2=L.Linear(hidden, hidden),\n",
    "            l3=L.Linear(hidden, hidden),\n",
    "            m0=L.Linear(hidden, latent),\n",
    "        )\n",
    "\n",
    "    def __call__(self, x):\n",
    "        h = F.relu(self.l1(x))\n",
    "        h = F.relu(self.l2(h))\n",
    "        h = F.relu(self.l3(h))\n",
    "        m0 = self.m0(h)\n",
    "        return m0"
   ]
  },
  {
   "cell_type": "code",
   "execution_count": 7,
   "metadata": {
    "collapsed": true
   },
   "outputs": [],
   "source": [
    "class Net2out(chainer.Chain):\n",
    "    def __init__(self, sensor, hidden, latent):\n",
    "        super().__init__(\n",
    "            l1=L.Linear(sensor, hidden),\n",
    "            l2=L.Linear(hidden, hidden),\n",
    "            l3=L.Linear(hidden, hidden),\n",
    "            m0=L.Linear(hidden, latent),\n",
    "            m1=L.Linear(hidden, latent)\n",
    "        )\n",
    "\n",
    "    def __call__(self, x):\n",
    "        h = F.relu(self.l1(x))\n",
    "        h = F.relu(self.l2(h))\n",
    "        h = F.relu(self.l3(h))\n",
    "        m0 = self.m0(h)\n",
    "        m1 = self.m1(h)\n",
    "        return m0, m1"
   ]
  },
  {
   "cell_type": "markdown",
   "metadata": {},
   "source": [
    "# define model"
   ]
  },
  {
   "cell_type": "code",
   "execution_count": 8,
   "metadata": {
    "collapsed": true
   },
   "outputs": [],
   "source": [
    "sensor_x = 28 * 28\n",
    "hidden = 1024\n",
    "zdim_z = 40\n",
    "\n",
    "qzgx  = rv.ConditionalGaussian(Net2out(sensor_x, hidden, zdim_z))\n",
    "pxgz = rv.ConditionalBernoulli(Net1out(zdim_z, hidden, sensor_x))\n",
    "\n",
    "model = vae.VAE(qzgx, pxgz)\n",
    "\n",
    "optimizer = chainer.optimizers.Adam()\n",
    "optimizer.setup(model)"
   ]
  },
  {
   "cell_type": "code",
   "execution_count": 9,
   "metadata": {
    "collapsed": true
   },
   "outputs": [],
   "source": [
    "if 0 <= gpu:\n",
    "    model.to_gpu(gpu)\n",
    "    xp = chainer.cuda.cupy\n",
    "    chainer.cuda.get_device(gpu).use()\n",
    "else:\n",
    "    xp = np"
   ]
  },
  {
   "cell_type": "code",
   "execution_count": 10,
   "metadata": {
    "scrolled": true
   },
   "outputs": [
    {
     "name": "stdout",
     "output_type": "stream",
     "text": [
      "epoch 0\n",
      "train mean loss=161.43304487864177\n",
      "epoch 1\n",
      "train mean loss=123.20993427276612\n",
      "epoch 2\n",
      "train mean loss=117.57824965159098\n",
      "epoch 3\n",
      "train mean loss=114.71703590393066\n",
      "epoch 4\n",
      "train mean loss=112.20583371480306\n",
      "epoch 5\n",
      "train mean loss=110.03618623097738\n",
      "epoch 6\n",
      "train mean loss=108.71939992268881\n",
      "epoch 7\n",
      "train mean loss=107.67710739135742\n",
      "epoch 8\n",
      "train mean loss=106.9093964767456\n",
      "epoch 9\n",
      "train mean loss=106.27039596557617\n",
      "epoch 10\n",
      "train mean loss=105.6652118810018\n",
      "epoch 11\n",
      "train mean loss=105.11702665964762\n",
      "epoch 12\n",
      "train mean loss=104.7239766438802\n",
      "epoch 13\n",
      "train mean loss=104.18414213816325\n",
      "epoch 14\n",
      "train mean loss=103.84754482269287\n",
      "epoch 15\n",
      "train mean loss=103.43860266367595\n",
      "epoch 16\n",
      "train mean loss=103.09454987843831\n",
      "epoch 17\n",
      "train mean loss=102.78179674784343\n",
      "epoch 18\n",
      "train mean loss=102.3548081588745\n",
      "epoch 19\n",
      "train mean loss=102.04579516092936\n",
      "epoch 20\n",
      "train mean loss=101.74741565704346\n",
      "epoch 21\n",
      "train mean loss=101.57238039652506\n",
      "epoch 22\n",
      "train mean loss=101.24789686838785\n",
      "epoch 23\n",
      "train mean loss=100.9675948969523\n",
      "epoch 24\n",
      "train mean loss=100.73463762919108\n",
      "epoch 25\n",
      "train mean loss=100.45054440816243\n",
      "epoch 26\n",
      "train mean loss=100.2456254196167\n",
      "epoch 27\n",
      "train mean loss=100.0644023768107\n",
      "epoch 28\n",
      "train mean loss=99.79238571166992\n",
      "epoch 29\n",
      "train mean loss=99.48487349192301\n",
      "epoch 30\n",
      "train mean loss=99.36996348063151\n",
      "epoch 31\n",
      "train mean loss=99.2014375559489\n",
      "epoch 32\n",
      "train mean loss=99.01889610290527\n",
      "epoch 33\n",
      "train mean loss=98.8178333791097\n",
      "epoch 34\n",
      "train mean loss=98.7246194712321\n",
      "epoch 35\n",
      "train mean loss=98.5277580134074\n",
      "epoch 36\n",
      "train mean loss=98.44234232584635\n",
      "epoch 37\n",
      "train mean loss=98.2868891398112\n",
      "epoch 38\n",
      "train mean loss=98.14263179779053\n",
      "epoch 39\n",
      "train mean loss=98.11199305216472\n",
      "epoch 40\n",
      "train mean loss=97.87835942586263\n",
      "epoch 41\n",
      "train mean loss=97.7616015625\n",
      "epoch 42\n",
      "train mean loss=97.71462071736654\n",
      "epoch 43\n",
      "train mean loss=97.6047380956014\n",
      "epoch 44\n",
      "train mean loss=97.56210627237955\n",
      "epoch 45\n",
      "train mean loss=97.42227745056152\n",
      "epoch 46\n",
      "train mean loss=97.32971076965332\n",
      "epoch 47\n",
      "train mean loss=97.24133532206217\n",
      "epoch 48\n",
      "train mean loss=97.1143432744344\n",
      "epoch 49\n",
      "train mean loss=97.03417163848877\n"
     ]
    }
   ],
   "source": [
    "n_epoch = 50\n",
    "batchsize = 100\n",
    "N = mnist[0].__len__()\n",
    "\n",
    "sum_loss_log = []\n",
    "\n",
    "for epoch in range(0, n_epoch):\n",
    "    print('epoch', epoch)\n",
    "\n",
    "    perm = np.random.permutation(N)\n",
    "    \n",
    "    sum_loss = 0\n",
    "    for i in range(0, N, batchsize):\n",
    "        images, _ = mnist[0].__getitem__([perm[i:i + batchsize]])\n",
    "        x_batch = chainer.Variable(xp.array(images))\n",
    "        loss = model.lower_bound(x_batch)\n",
    "        \n",
    "        sum_loss += float(loss.data) * batchsize\n",
    "        model.zerograds()\n",
    "        loss.backward()\n",
    "        optimizer.update()\n",
    "        \n",
    "    sum_loss_log.append(sum_loss / N)\n",
    "    print('train mean loss={}'.format(sum_loss / N))"
   ]
  },
  {
   "cell_type": "code",
   "execution_count": 11,
   "metadata": {},
   "outputs": [
    {
     "data": {
      "text/plain": [
       "[<matplotlib.lines.Line2D at 0x7f3cb4b12780>]"
      ]
     },
     "execution_count": 11,
     "metadata": {},
     "output_type": "execute_result"
    },
    {
     "data": {
      "image/png": "[encoded data removed]",
      "text/plain": [
       "<matplotlib.figure.Figure at 0x7f3cb505ceb8>"
      ]
     },
     "metadata": {},
     "output_type": "display_data"
    }
   ],
   "source": [
    "plt.plot(sum_loss_log)"
   ]
  },
  {
   "cell_type": "code",
   "execution_count": 12,
   "metadata": {
    "collapsed": true
   },
   "outputs": [],
   "source": [
    "model.to_cpu()\n",
    "xp = np"
   ]
  },
  {
   "cell_type": "code",
   "execution_count": 13,
   "metadata": {
    "collapsed": true
   },
   "outputs": [],
   "source": [
    "model_file_name = 'vae_mnist'"
   ]
  },
  {
   "cell_type": "code",
   "execution_count": 14,
   "metadata": {},
   "outputs": [
    {
     "name": "stdout",
     "output_type": "stream",
     "text": [
      "save the model\n",
      "save the optimizer\n"
     ]
    }
   ],
   "source": [
    "print('save the model')\n",
    "chainer.serializers.save_npz(model_file_name + '.model', model)\n",
    "print('save the optimizer')\n",
    "chainer.serializers.save_npz(model_file_name + '.state', optimizer)"
   ]
  },
  {
   "cell_type": "code",
   "execution_count": 15,
   "metadata": {},
   "outputs": [
    {
     "name": "stdout",
     "output_type": "stream",
     "text": [
      "load the model\n",
      "load the optimizer\n"
     ]
    }
   ],
   "source": [
    "print('load the model')\n",
    "chainer.serializers.load_npz(model_file_name + '.model', model)\n",
    "print('load the optimizer')\n",
    "chainer.serializers.load_npz(model_file_name + '.state', optimizer)"
   ]
  },
  {
   "cell_type": "code",
   "execution_count": 16,
   "metadata": {
    "collapsed": true
   },
   "outputs": [],
   "source": [
    "train_ind = [np.where(mnist[1].__getitem__(range(100))[1] == i)[0][0] for i in range(10)]\n",
    "images, _ = mnist[1].__getitem__(train_ind)\n",
    "x_batch = chainer.Variable(xp.array(images))\n",
    "with chainer.no_backprop_mode(), chainer.using_config('train', False):\n",
    "    px = model.reconstract(x_batch)"
   ]
  },
  {
   "cell_type": "code",
   "execution_count": 17,
   "metadata": {
    "scrolled": false
   },
   "outputs": [
    {
     "data": {
      "image/png": "[encoded data removed]",
      "text/plain": [
       "<matplotlib.figure.Figure at 0x7f3cb4a89f98>"
      ]
     },
     "metadata": {},
     "output_type": "display_data"
    },
    {
     "data": {
      "image/png": "[encoded data removed]",
      "text/plain": [
       "<matplotlib.figure.Figure at 0x7f3cb49dafd0>"
      ]
     },
     "metadata": {},
     "output_type": "display_data"
    },
    {
     "data": {
      "image/png": "[encoded data removed]",
      "text/plain": [
       "<matplotlib.figure.Figure at 0x7f3cb48c0128>"
      ]
     },
     "metadata": {},
     "output_type": "display_data"
    },
    {
     "data": {
      "image/png": "[encoded data removed]",
      "text/plain": [
       "<matplotlib.figure.Figure at 0x7f3cb481a438>"
      ]
     },
     "metadata": {},
     "output_type": "display_data"
    },
    {
     "data": {
      "image/png": "[encoded data removed]",
      "text/plain": [
       "<matplotlib.figure.Figure at 0x7f3cb47714e0>"
      ]
     },
     "metadata": {},
     "output_type": "display_data"
    },
    {
     "data": {
      "image/png": "[encoded data removed]",
      "text/plain": [
       "<matplotlib.figure.Figure at 0x7f3cb4647780>"
      ]
     },
     "metadata": {},
     "output_type": "display_data"
    },
    {
     "data": {
      "image/png": "[encoded data removed]",
      "text/plain": [
       "<matplotlib.figure.Figure at 0x7f3cb45ad2b0>"
      ]
     },
     "metadata": {},
     "output_type": "display_data"
    },
    {
     "data": {
      "image/png": "[encoded data removed]",
      "text/plain": [
       "<matplotlib.figure.Figure at 0x7f3cb2668550>"
      ]
     },
     "metadata": {},
     "output_type": "display_data"
    },
    {
     "data": {
      "image/png": "[encoded data removed]",
      "text/plain": [
       "<matplotlib.figure.Figure at 0x7f3cb268f470>"
      ]
     },
     "metadata": {},
     "output_type": "display_data"
    },
    {
     "data": {
      "image/png": "[encoded data removed]",
      "text/plain": [
       "<matplotlib.figure.Figure at 0x7f3cb25098d0>"
      ]
     },
     "metadata": {},
     "output_type": "display_data"
    }
   ],
   "source": [
    "for i in range(len(px.get_params()[0])):\n",
    "    plt.figure()\n",
    "    plt.subplot(1, 2, 1)\n",
    "    plt.imshow(images[i].reshape(28, 28))\n",
    "    plt.subplot(1, 2, 2)\n",
    "    plt.imshow(px.get_params()[0].data[i].reshape(28, 28))"
   ]
  }
 ],
 "metadata": {
  "kernelspec": {
   "display_name": "Python 3",
   "language": "python",
   "name": "python3"
  },
  "language_info": {
   "codemirror_mode": {
    "name": "ipython",
    "version": 3
   },
   "file_extension": ".py",
   "mimetype": "text/x-python",
   "name": "python",
   "nbconvert_exporter": "python",
   "pygments_lexer": "ipython3",
   "version": "3.6.1"
  }
 },
 "nbformat": 4,
 "nbformat_minor": 2
}
